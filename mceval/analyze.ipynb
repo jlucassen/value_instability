{
 "cells": [
  {
   "cell_type": "code",
   "execution_count": 3,
   "metadata": {},
   "outputs": [
    {
     "name": "stdout",
     "output_type": "stream",
     "text": [
      "analyze.ipynb  generate.py  old_analyze.py  \u001b[0m\u001b[01;34m__pycache__\u001b[0m/\n",
      "/data/joshua_clymer/owen-workspace/value_instability\n"
     ]
    }
   ],
   "source": [
    "%ls\n",
    "%cd .."
   ]
  },
  {
   "cell_type": "code",
   "execution_count": 4,
   "metadata": {},
   "outputs": [],
   "source": [
    "import pandas as pd\n",
    "scores_without_reasoning_path = 'llama3-instruct/scores_without_reasoning_harmless_standard.jsonl'\n",
    "scores_with_reasoning_path = 'llama3-instruct/scores_with_reasoning_harmless_standard.jsonl'\n",
    "scores_without_reasoning = pd.read_json(scores_without_reasoning_path, orient='records', lines=True)\n",
    "scores_with_reasoning = pd.read_json(scores_with_reasoning_path, orient='records', lines=True)"
   ]
  },
  {
   "cell_type": "code",
   "execution_count": 5,
   "metadata": {},
   "outputs": [
    {
     "name": "stdout",
     "output_type": "stream",
     "text": [
      "Index(['top_k_scores', 'top_k_ids'], dtype='object')\n",
      "Index(['top_k_scores', 'top_k_ids'], dtype='object')\n"
     ]
    }
   ],
   "source": [
    "# Print columns \n",
    "print(scores_without_reasoning.columns)\n",
    "print(scores_with_reasoning.columns)"
   ]
  },
  {
   "cell_type": "code",
   "execution_count": null,
   "metadata": {},
   "outputs": [],
   "source": []
  }
 ],
 "metadata": {
  "kernelspec": {
   "display_name": "redteam2",
   "language": "python",
   "name": "python3"
  },
  "language_info": {
   "codemirror_mode": {
    "name": "ipython",
    "version": 3
   },
   "file_extension": ".py",
   "mimetype": "text/x-python",
   "name": "python",
   "nbconvert_exporter": "python",
   "pygments_lexer": "ipython3",
   "version": "3.10.13"
  }
 },
 "nbformat": 4,
 "nbformat_minor": 2
}
