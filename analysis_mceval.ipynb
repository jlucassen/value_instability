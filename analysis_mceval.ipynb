{
 "cells": [
  {
   "cell_type": "code",
   "execution_count": 1,
   "metadata": {},
   "outputs": [],
   "source": [
    "import pandas as pd"
   ]
  },
  {
   "cell_type": "code",
   "execution_count": 2,
   "metadata": {},
   "outputs": [
    {
     "ename": "ValueError",
     "evalue": "Expected object or value",
     "output_type": "error",
     "traceback": [
      "\u001b[0;31m---------------------------------------------------------------------------\u001b[0m",
      "\u001b[0;31mValueError\u001b[0m                                Traceback (most recent call last)",
      "Cell \u001b[0;32mIn[2], line 5\u001b[0m\n\u001b[1;32m      2\u001b[0m dataset_name \u001b[38;5;241m=\u001b[39m \u001b[38;5;124m'\u001b[39m\u001b[38;5;124mharmless\u001b[39m\u001b[38;5;124m'\u001b[39m\n\u001b[1;32m      3\u001b[0m \u001b[38;5;66;03m# df_leading_newline = pd.read_json('dilemmas_decoded_answers_newline.jsonl', orient='records', lines=True)\u001b[39;00m\n\u001b[1;32m      4\u001b[0m \u001b[38;5;66;03m# df_standard_prompt = pd.read_json('dilemmas_decoded_answers.jsonl', orient='records', lines=True)\u001b[39;00m\n\u001b[0;32m----> 5\u001b[0m df_leading_newline \u001b[38;5;241m=\u001b[39m \u001b[43mpd\u001b[49m\u001b[38;5;241;43m.\u001b[39;49m\u001b[43mread_json\u001b[49m\u001b[43m(\u001b[49m\u001b[38;5;124;43mf\u001b[39;49m\u001b[38;5;124;43m'\u001b[39;49m\u001b[38;5;132;43;01m{\u001b[39;49;00m\u001b[43mdataset_name\u001b[49m\u001b[38;5;132;43;01m}\u001b[39;49;00m\u001b[38;5;124;43m_decoded_answers_newline.jsonl\u001b[39;49m\u001b[38;5;124;43m'\u001b[39;49m\u001b[43m,\u001b[49m\u001b[43m \u001b[49m\u001b[43morient\u001b[49m\u001b[38;5;241;43m=\u001b[39;49m\u001b[38;5;124;43m'\u001b[39;49m\u001b[38;5;124;43mrecords\u001b[39;49m\u001b[38;5;124;43m'\u001b[39;49m\u001b[43m,\u001b[49m\u001b[43m \u001b[49m\u001b[43mlines\u001b[49m\u001b[38;5;241;43m=\u001b[39;49m\u001b[38;5;28;43;01mTrue\u001b[39;49;00m\u001b[43m)\u001b[49m\n\u001b[1;32m      6\u001b[0m df_standard_prompt \u001b[38;5;241m=\u001b[39m pd\u001b[38;5;241m.\u001b[39mread_json(\u001b[38;5;124mf\u001b[39m\u001b[38;5;124m'\u001b[39m\u001b[38;5;132;01m{\u001b[39;00mdataset_name\u001b[38;5;132;01m}\u001b[39;00m\u001b[38;5;124m_decoded_answers.jsonl\u001b[39m\u001b[38;5;124m'\u001b[39m, orient\u001b[38;5;241m=\u001b[39m\u001b[38;5;124m'\u001b[39m\u001b[38;5;124mrecords\u001b[39m\u001b[38;5;124m'\u001b[39m, lines\u001b[38;5;241m=\u001b[39m\u001b[38;5;28;01mTrue\u001b[39;00m)\n",
      "File \u001b[0;32m~/miniconda3/envs/redteam2/lib/python3.10/site-packages/pandas/io/json/_json.py:784\u001b[0m, in \u001b[0;36mread_json\u001b[0;34m(path_or_buf, orient, typ, dtype, convert_axes, convert_dates, keep_default_dates, precise_float, date_unit, encoding, encoding_errors, lines, chunksize, compression, nrows, storage_options, dtype_backend, engine)\u001b[0m\n\u001b[1;32m    782\u001b[0m     \u001b[38;5;28;01mreturn\u001b[39;00m json_reader\n\u001b[1;32m    783\u001b[0m \u001b[38;5;28;01melse\u001b[39;00m:\n\u001b[0;32m--> 784\u001b[0m     \u001b[38;5;28;01mreturn\u001b[39;00m \u001b[43mjson_reader\u001b[49m\u001b[38;5;241;43m.\u001b[39;49m\u001b[43mread\u001b[49m\u001b[43m(\u001b[49m\u001b[43m)\u001b[49m\n",
      "File \u001b[0;32m~/miniconda3/envs/redteam2/lib/python3.10/site-packages/pandas/io/json/_json.py:973\u001b[0m, in \u001b[0;36mJsonReader.read\u001b[0;34m(self)\u001b[0m\n\u001b[1;32m    971\u001b[0m         data \u001b[38;5;241m=\u001b[39m ensure_str(\u001b[38;5;28mself\u001b[39m\u001b[38;5;241m.\u001b[39mdata)\n\u001b[1;32m    972\u001b[0m         data_lines \u001b[38;5;241m=\u001b[39m data\u001b[38;5;241m.\u001b[39msplit(\u001b[38;5;124m\"\u001b[39m\u001b[38;5;130;01m\\n\u001b[39;00m\u001b[38;5;124m\"\u001b[39m)\n\u001b[0;32m--> 973\u001b[0m         obj \u001b[38;5;241m=\u001b[39m \u001b[38;5;28;43mself\u001b[39;49m\u001b[38;5;241;43m.\u001b[39;49m\u001b[43m_get_object_parser\u001b[49m\u001b[43m(\u001b[49m\u001b[38;5;28;43mself\u001b[39;49m\u001b[38;5;241;43m.\u001b[39;49m\u001b[43m_combine_lines\u001b[49m\u001b[43m(\u001b[49m\u001b[43mdata_lines\u001b[49m\u001b[43m)\u001b[49m\u001b[43m)\u001b[49m\n\u001b[1;32m    974\u001b[0m \u001b[38;5;28;01melse\u001b[39;00m:\n\u001b[1;32m    975\u001b[0m     obj \u001b[38;5;241m=\u001b[39m \u001b[38;5;28mself\u001b[39m\u001b[38;5;241m.\u001b[39m_get_object_parser(\u001b[38;5;28mself\u001b[39m\u001b[38;5;241m.\u001b[39mdata)\n",
      "File \u001b[0;32m~/miniconda3/envs/redteam2/lib/python3.10/site-packages/pandas/io/json/_json.py:1001\u001b[0m, in \u001b[0;36mJsonReader._get_object_parser\u001b[0;34m(self, json)\u001b[0m\n\u001b[1;32m    999\u001b[0m obj \u001b[38;5;241m=\u001b[39m \u001b[38;5;28;01mNone\u001b[39;00m\n\u001b[1;32m   1000\u001b[0m \u001b[38;5;28;01mif\u001b[39;00m typ \u001b[38;5;241m==\u001b[39m \u001b[38;5;124m\"\u001b[39m\u001b[38;5;124mframe\u001b[39m\u001b[38;5;124m\"\u001b[39m:\n\u001b[0;32m-> 1001\u001b[0m     obj \u001b[38;5;241m=\u001b[39m \u001b[43mFrameParser\u001b[49m\u001b[43m(\u001b[49m\u001b[43mjson\u001b[49m\u001b[43m,\u001b[49m\u001b[43m \u001b[49m\u001b[38;5;241;43m*\u001b[39;49m\u001b[38;5;241;43m*\u001b[39;49m\u001b[43mkwargs\u001b[49m\u001b[43m)\u001b[49m\u001b[38;5;241;43m.\u001b[39;49m\u001b[43mparse\u001b[49m\u001b[43m(\u001b[49m\u001b[43m)\u001b[49m\n\u001b[1;32m   1003\u001b[0m \u001b[38;5;28;01mif\u001b[39;00m typ \u001b[38;5;241m==\u001b[39m \u001b[38;5;124m\"\u001b[39m\u001b[38;5;124mseries\u001b[39m\u001b[38;5;124m\"\u001b[39m \u001b[38;5;129;01mor\u001b[39;00m obj \u001b[38;5;129;01mis\u001b[39;00m \u001b[38;5;28;01mNone\u001b[39;00m:\n\u001b[1;32m   1004\u001b[0m     \u001b[38;5;28;01mif\u001b[39;00m \u001b[38;5;129;01mnot\u001b[39;00m \u001b[38;5;28misinstance\u001b[39m(dtype, \u001b[38;5;28mbool\u001b[39m):\n",
      "File \u001b[0;32m~/miniconda3/envs/redteam2/lib/python3.10/site-packages/pandas/io/json/_json.py:1134\u001b[0m, in \u001b[0;36mParser.parse\u001b[0;34m(self)\u001b[0m\n\u001b[1;32m   1133\u001b[0m \u001b[38;5;28;01mdef\u001b[39;00m \u001b[38;5;21mparse\u001b[39m(\u001b[38;5;28mself\u001b[39m):\n\u001b[0;32m-> 1134\u001b[0m     \u001b[38;5;28;43mself\u001b[39;49m\u001b[38;5;241;43m.\u001b[39;49m\u001b[43m_parse\u001b[49m\u001b[43m(\u001b[49m\u001b[43m)\u001b[49m\n\u001b[1;32m   1136\u001b[0m     \u001b[38;5;28;01mif\u001b[39;00m \u001b[38;5;28mself\u001b[39m\u001b[38;5;241m.\u001b[39mobj \u001b[38;5;129;01mis\u001b[39;00m \u001b[38;5;28;01mNone\u001b[39;00m:\n\u001b[1;32m   1137\u001b[0m         \u001b[38;5;28;01mreturn\u001b[39;00m \u001b[38;5;28;01mNone\u001b[39;00m\n",
      "File \u001b[0;32m~/miniconda3/envs/redteam2/lib/python3.10/site-packages/pandas/io/json/_json.py:1347\u001b[0m, in \u001b[0;36mFrameParser._parse\u001b[0;34m(self)\u001b[0m\n\u001b[1;32m   1344\u001b[0m     \u001b[38;5;28mself\u001b[39m\u001b[38;5;241m.\u001b[39mobj \u001b[38;5;241m=\u001b[39m parse_table_schema(json, precise_float\u001b[38;5;241m=\u001b[39m\u001b[38;5;28mself\u001b[39m\u001b[38;5;241m.\u001b[39mprecise_float)\n\u001b[1;32m   1345\u001b[0m \u001b[38;5;28;01melse\u001b[39;00m:\n\u001b[1;32m   1346\u001b[0m     \u001b[38;5;28mself\u001b[39m\u001b[38;5;241m.\u001b[39mobj \u001b[38;5;241m=\u001b[39m DataFrame(\n\u001b[0;32m-> 1347\u001b[0m         \u001b[43mloads\u001b[49m\u001b[43m(\u001b[49m\u001b[43mjson\u001b[49m\u001b[43m,\u001b[49m\u001b[43m \u001b[49m\u001b[43mprecise_float\u001b[49m\u001b[38;5;241;43m=\u001b[39;49m\u001b[38;5;28;43mself\u001b[39;49m\u001b[38;5;241;43m.\u001b[39;49m\u001b[43mprecise_float\u001b[49m\u001b[43m)\u001b[49m, dtype\u001b[38;5;241m=\u001b[39m\u001b[38;5;28;01mNone\u001b[39;00m\n\u001b[1;32m   1348\u001b[0m     )\n",
      "\u001b[0;31mValueError\u001b[0m: Expected object or value"
     ]
    }
   ],
   "source": [
    "# load dataset from json\n",
    "dataset_name = 'harmless'\n",
    "# df_leading_newline = pd.read_json('dilemmas_decoded_answers_newline.jsonl', orient='records', lines=True)\n",
    "# df_standard_prompt = pd.read_json('dilemmas_decoded_answers.jsonl', orient='records', lines=True)\n",
    "df_leading_newline = pd.read_json(f'{dataset_name}_decoded_answers_newline.jsonl', orient='records', lines=True)\n",
    "df_standard_prompt = pd.read_json(f'{dataset_name}_decoded_answers.jsonl', orient='records', lines=True)\n"
   ]
  },
  {
   "cell_type": "code",
   "execution_count": null,
   "metadata": {},
   "outputs": [
    {
     "name": "stdout",
     "output_type": "stream",
     "text": [
      "<class 'str'>\n",
      "A\n",
      "True\n"
     ]
    }
   ],
   "source": [
    "print(type(df_leading_newline['reasoning_decoded_top_0'][0]))\n",
    "print(df_leading_newline['reasoning_decoded_top_0'][0])\n",
    "print(df_leading_newline['reasoning_decoded_top_0'][0] == \"A\")\n",
    "\n",
    "# Create new column with boolean value if reasoning_decoded_top_0 is equal to \"A\"\n"
   ]
  },
  {
   "cell_type": "code",
   "execution_count": null,
   "metadata": {},
   "outputs": [],
   "source": [
    "def results(df_decoded_answers):\n",
    "    df_decoded_answers['reasoning_decoded_top_0'] = df_decoded_answers['reasoning_decoded_top_0'].apply(lambda x: x.strip())\n",
    "    df_decoded_answers['no_reasoning_decoded_top_0'] = df_decoded_answers['no_reasoning_decoded_top_0'].apply(lambda x: x.strip())\n",
    "\n",
    "    df_decoded_answers['reasoning_final_A'] = df_decoded_answers['reasoning_decoded_top_0'] == \"A\"\n",
    "    df_decoded_answers['no_reasoning_final_A'] = df_decoded_answers['no_reasoning_decoded_top_0']== \"A\"\n",
    "    df_decoded_answers['reasoning_final_B'] = df_decoded_answers['reasoning_decoded_top_0'] == 'B'\n",
    "    df_decoded_answers['no_reasoning_final_B'] = df_decoded_answers['no_reasoning_decoded_top_0'] == 'B'\n",
    "    # valid_answers = ['A', 'B']\n",
    "    df_decoded_answers['reasoning_final_other'] = df_decoded_answers['reasoning_decoded_top_0'].apply(lambda x: False if x in ['A', 'B'] else True)\n",
    "    df_decoded_answers['no_reasoning_final_other'] = df_decoded_answers['no_reasoning_decoded_top_0'].apply(lambda x: False if x in ['A', 'B'] else True)\n",
    "    \n",
    "    # print number of other answers\n",
    "    print(\"Number of other answers in reasoning_decoded_top_0: \", df_decoded_answers['reasoning_final_other'].value_counts())\n",
    "\n",
    "    # number of rows where reasoning_final_A changes from reasoning to no reasoning\n",
    "    print(\"Number of rows where reasoning_final_A changes from reasoning to no reasoning: \", df_decoded_answers['reasoning_final_A'].ne(df_decoded_answers['no_reasoning_final_A']).value_counts())\n"
   ]
  },
  {
   "cell_type": "code",
   "execution_count": null,
   "metadata": {},
   "outputs": [
    {
     "name": "stdout",
     "output_type": "stream",
     "text": [
      "Number of other answers in reasoning_decoded_top_0:  reasoning_final_other\n",
      "False    58\n",
      "Name: count, dtype: int64\n",
      "Number of rows where reasoning_final_A changes from reasoning to no reasoning:  False    38\n",
      "True     20\n",
      "Name: count, dtype: int64\n",
      "Number of other answers in reasoning_decoded_top_0:  reasoning_final_other\n",
      "False    58\n",
      "Name: count, dtype: int64\n",
      "Number of rows where reasoning_final_A changes from reasoning to no reasoning:  False    36\n",
      "True     22\n",
      "Name: count, dtype: int64\n"
     ]
    }
   ],
   "source": [
    "results(df_leading_newline)\n",
    "results(df_standard_prompt)\n",
    "\n",
    "# df_leading_newline['reasoning_final_A'] = df_leading_newline['reasoning_decoded_top_0'] == \"A\"\n",
    "# df_leading_newline['no_reasoning_final_A'] = df_leading_newline['reasoning_decoded_top_0'] == \"A\"\n",
    "# print(df_leading_newline['reasoning_final_A'][0])\n",
    "\n",
    "# # Count number of true values in reasoning_final_A\n",
    "# print(df_leading_newline['reasoning_final_A'].value_counts())\n",
    "# print(df_leading_newline['no_reasoning_final_A'].value_counts())\n",
    "\n",
    "# # number of rows where reasoning_final_A changes from reasoning to no reasoning\n",
    "# print(df_leading_newline['reasoning_final_A'].ne(df_leading_newline['no_reasoning_final_A']).value_counts())"
   ]
  },
  {
   "cell_type": "code",
   "execution_count": null,
   "metadata": {},
   "outputs": [
    {
     "name": "stdout",
     "output_type": "stream",
     "text": [
      "Number of differences between df_leading_newline[no reasoning] and df_standard_prompt[no reasoning]:  no_reasoning_final_A\n",
      "False    54\n",
      "True      4\n",
      "Name: count, dtype: int64\n"
     ]
    }
   ],
   "source": [
    "# number of differences between df_leading_newline[no reasoning] and df_standard_prompt[no reasoning]\n",
    "print(\"Number of differences between df_leading_newline[no reasoning] and df_standard_prompt[no reasoning]: \", df_leading_newline['no_reasoning_final_A'].ne(df_standard_prompt['no_reasoning_final_A']).value_counts())"
   ]
  },
  {
   "cell_type": "code",
   "execution_count": null,
   "metadata": {},
   "outputs": [
    {
     "name": "stdout",
     "output_type": "stream",
     "text": [
      "Number of differences between df_leading_newline[reasoning] and df_standard_prompt[reasoning]:  reasoning_final_A\n",
      "False    58\n",
      "Name: count, dtype: int64\n"
     ]
    }
   ],
   "source": [
    "print(\"Number of differences between df_leading_newline[reasoning] and df_standard_prompt[reasoning]: \", df_leading_newline['reasoning_final_A'].ne(df_standard_prompt['reasoning_final_A']).value_counts())"
   ]
  },
  {
   "cell_type": "code",
   "execution_count": null,
   "metadata": {},
   "outputs": [],
   "source": []
  }
 ],
 "metadata": {
  "kernelspec": {
   "display_name": "display-redteam2",
   "language": "python",
   "name": "redteam2"
  },
  "language_info": {
   "codemirror_mode": {
    "name": "ipython",
    "version": 3
   },
   "file_extension": ".py",
   "mimetype": "text/x-python",
   "name": "python",
   "nbconvert_exporter": "python",
   "pygments_lexer": "ipython3",
   "version": "3.10.13"
  }
 },
 "nbformat": 4,
 "nbformat_minor": 2
}
