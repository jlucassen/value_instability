{
 "cells": [
  {
   "cell_type": "code",
   "execution_count": 4,
   "metadata": {},
   "outputs": [],
   "source": [
    "import pandas as pd"
   ]
  },
  {
   "cell_type": "code",
   "execution_count": 5,
   "metadata": {},
   "outputs": [],
   "source": [
    "# load dataset from json\n",
    "df_leading_newline = pd.read_json('dilemmas_decoded_answers_newline.jsonl', orient='records', lines=True)\n",
    "df_standard_prompt = pd.read_json('dilemmas_decoded_answers.jsonl', orient='records', lines=True)\n"
   ]
  },
  {
   "cell_type": "code",
   "execution_count": 6,
   "metadata": {},
   "outputs": [
    {
     "name": "stdout",
     "output_type": "stream",
     "text": [
      "<class 'str'>\n",
      "A\n",
      "True\n"
     ]
    }
   ],
   "source": [
    "print(type(df_leading_newline['reasoning_decoded_top_0'][0]))\n",
    "print(df_leading_newline['reasoning_decoded_top_0'][0])\n",
    "print(df_leading_newline['reasoning_decoded_top_0'][0] == \"A\")\n",
    "\n",
    "# Create new column with boolean value if reasoning_decoded_top_0 is equal to \"A\"\n"
   ]
  },
  {
   "cell_type": "code",
   "execution_count": 11,
   "metadata": {},
   "outputs": [],
   "source": [
    "def results(df_decoded_answers):\n",
    "    df_decoded_answers['reasoning_decoded_top_0'] = df_decoded_answers['reasoning_decoded_top_0'].apply(lambda x: x.strip())\n",
    "    df_decoded_answers['no_reasoning_decoded_top_0'] = df_decoded_answers['no_reasoning_decoded_top_0'].apply(lambda x: x.strip())\n",
    "\n",
    "    df_decoded_answers['reasoning_final_A'] = df_decoded_answers['reasoning_decoded_top_0'] == \"A\"\n",
    "    df_decoded_answers['no_reasoning_final_A'] = df_decoded_answers['no_reasoning_decoded_top_0']== \"A\"\n",
    "    df_decoded_answers['reasoning_final_B'] = df_decoded_answers['reasoning_decoded_top_0'] == 'B'\n",
    "    df_decoded_answers['no_reasoning_final_B'] = df_decoded_answers['no_reasoning_decoded_top_0'] == 'B'\n",
    "    # valid_answers = ['A', 'B']\n",
    "    df_decoded_answers['reasoning_final_other'] = df_decoded_answers['reasoning_decoded_top_0'].apply(lambda x: False if x in ['A', 'B'] else True)\n",
    "    df_decoded_answers['no_reasoning_final_other'] = df_decoded_answers['no_reasoning_decoded_top_0'].apply(lambda x: False if x in ['A', 'B'] else True)\n",
    "    \n",
    "    # print number of other answers\n",
    "    print(\"Number of other answers in reasoning_decoded_top_0: \", df_decoded_answers['reasoning_final_other'].value_counts())\n",
    "\n",
    "    # number of rows where reasoning_final_A changes from reasoning to no reasoning\n",
    "    print(\"Number of rows where reasoning_final_A changes from reasoning to no reasoning: \", df_decoded_answers['reasoning_final_A'].ne(df_decoded_answers['no_reasoning_final_A']).value_counts())\n"
   ]
  },
  {
   "cell_type": "code",
   "execution_count": 12,
   "metadata": {},
   "outputs": [
    {
     "name": "stdout",
     "output_type": "stream",
     "text": [
      "Number of other answers in reasoning_decoded_top_0:  reasoning_final_other\n",
      "True    100\n",
      "Name: count, dtype: int64\n",
      "Number of rows where reasoning_final_A changes from reasoning to no reasoning:  False    62\n",
      "True     38\n",
      "Name: count, dtype: int64\n",
      "Number of other answers in reasoning_decoded_top_0:  reasoning_final_other\n",
      "True    100\n",
      "Name: count, dtype: int64\n",
      "Number of rows where reasoning_final_A changes from reasoning to no reasoning:  False    55\n",
      "True     45\n",
      "Name: count, dtype: int64\n"
     ]
    }
   ],
   "source": [
    "results(df_leading_newline)\n",
    "results(df_standard_prompt)\n",
    "\n",
    "# df_leading_newline['reasoning_final_A'] = df_leading_newline['reasoning_decoded_top_0'] == \"A\"\n",
    "# df_leading_newline['no_reasoning_final_A'] = df_leading_newline['reasoning_decoded_top_0'] == \"A\"\n",
    "# print(df_leading_newline['reasoning_final_A'][0])\n",
    "\n",
    "# # Count number of true values in reasoning_final_A\n",
    "# print(df_leading_newline['reasoning_final_A'].value_counts())\n",
    "# print(df_leading_newline['no_reasoning_final_A'].value_counts())\n",
    "\n",
    "# # number of rows where reasoning_final_A changes from reasoning to no reasoning\n",
    "# print(df_leading_newline['reasoning_final_A'].ne(df_leading_newline['no_reasoning_final_A']).value_counts())"
   ]
  },
  {
   "cell_type": "code",
   "execution_count": 13,
   "metadata": {},
   "outputs": [
    {
     "name": "stdout",
     "output_type": "stream",
     "text": [
      "Number of differences between df_leading_newline[no reasoning] and df_standard_prompt[no reasoning]:  no_reasoning_final_A\n",
      "False    74\n",
      "True     26\n",
      "Name: count, dtype: int64\n"
     ]
    }
   ],
   "source": [
    "# number of differences between df_leading_newline[no reasoning] and df_standard_prompt[no reasoning]\n",
    "print(\"Number of differences between df_leading_newline[no reasoning] and df_standard_prompt[no reasoning]: \", df_leading_newline['no_reasoning_final_A'].ne(df_standard_prompt['no_reasoning_final_A']).value_counts())"
   ]
  },
  {
   "cell_type": "code",
   "execution_count": 15,
   "metadata": {},
   "outputs": [
    {
     "name": "stdout",
     "output_type": "stream",
     "text": [
      "Number of differences between df_leading_newline[reasoning] and df_standard_prompt[reasoning]:  reasoning_final_A\n",
      "False    69\n",
      "True     31\n",
      "Name: count, dtype: int64\n"
     ]
    }
   ],
   "source": [
    "print(\"Number of differences between df_leading_newline[reasoning] and df_standard_prompt[reasoning]: \", df_leading_newline['reasoning_final_A'].ne(df_standard_prompt['reasoning_final_A']).value_counts())"
   ]
  },
  {
   "cell_type": "code",
   "execution_count": null,
   "metadata": {},
   "outputs": [],
   "source": []
  }
 ],
 "metadata": {
  "kernelspec": {
   "display_name": "redteam2",
   "language": "python",
   "name": "python3"
  },
  "language_info": {
   "codemirror_mode": {
    "name": "ipython",
    "version": 3
   },
   "file_extension": ".py",
   "mimetype": "text/x-python",
   "name": "python",
   "nbconvert_exporter": "python",
   "pygments_lexer": "ipython3",
   "version": "3.10.13"
  }
 },
 "nbformat": 4,
 "nbformat_minor": 2
}
