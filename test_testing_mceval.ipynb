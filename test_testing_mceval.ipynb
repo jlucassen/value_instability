import torch
import unittest

class TestGetTopKScores(unittest.TestCase):
    def test_get_top_k_scores(self):
        # Create a mock model
        class MockModel:
            def generate(self, **kwargs):
                # Simulate model output
                scores = torch.tensor([[0.1, 0.2, 0.3, 0.4, 0.5]])
                return {'scores': scores}

        # Create a mock tokenized prompt
        tokenized_prompt = {'input_ids': torch.tensor([[1, 2, 3, 4, 5]])}

        # Create an instance of the function
        get_top_k_scores_func = get_top_k_scores(MockModel(), tokenized_prompt, k=3)

        # Assert the expected output
        expected_output = {
            'top_k_scores': torch.tensor([[0.3, 0.4, 0.5]]),
            'top_k_ids': torch.tensor([[2, 3, 4]])
        }
        self.assertEqual(get_top_k_scores_func, expected_output)

if __name__ == '__main__':
    unittest.main()